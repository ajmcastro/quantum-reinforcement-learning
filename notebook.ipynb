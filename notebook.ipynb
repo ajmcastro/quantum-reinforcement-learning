{
 "cells": [
  {
   "cell_type": "code",
   "execution_count": 1,
   "metadata": {},
   "outputs": [],
   "source": [
    "%load_ext autoreload\n",
    "%autoreload 2"
   ]
  },
  {
   "cell_type": "code",
   "execution_count": 2,
   "metadata": {},
   "outputs": [],
   "source": [
    "import sys, os, pickle, time, datetime\n",
    "from copy import deepcopy\n",
    "\n",
    "import numpy as np\n",
    "import matplotlib.pyplot as plt\n",
    "\n",
    "from functools import partial\n",
    "from p_tqdm import p_uimap\n",
    "\n",
    "from scipy.ndimage.filters import uniform_filter1d\n",
    "\n",
    "from qiskit import QuantumRegister, ClassicalRegister, QuantumCircuit\n",
    "from qiskit.circuit import Parameter\n",
    "from qiskit.tools.visualization import circuit_drawer\n",
    "from qiskit.providers.aer import QasmSimulator\n",
    "\n",
    "from circuit_builder import CircuitBuilder\n",
    "\n",
    "from checkers import Checkers\n",
    "from agents import QRQLAgent"
   ]
  },
  {
   "cell_type": "code",
   "execution_count": 3,
   "metadata": {},
   "outputs": [],
   "source": [
    "backend = QasmSimulator(method='statevector', precision='single')"
   ]
  },
  {
   "cell_type": "code",
   "execution_count": 3,
   "metadata": {},
   "outputs": [],
   "source": [
    "from stats import EpisodeStats\n",
    "\n",
    "globals()['EpisodeStats'] = EpisodeStats\n",
    "\n",
    "def load_stats(stats_name):\n",
    "    stats = None\n",
    "    \n",
    "    if os.path.isfile(stats_name + '.pkl'):\n",
    "        with open(stats_name + '.pkl', 'rb') as f:\n",
    "            stats = pickle.load(f)\n",
    "            f.close()\n",
    "\n",
    "    return stats\n",
    "\n",
    "def save_stats(stats_name, stats):\n",
    "    with open(stats_name + '.pkl', 'wb') as f:\n",
    "        pickle.dump(stats, f, pickle.HIGHEST_PROTOCOL)\n",
    "        f.close()"
   ]
  },
  {
   "cell_type": "code",
   "execution_count": 4,
   "metadata": {},
   "outputs": [],
   "source": [
    "def base_run(env, num_episodes, agent):\n",
    "    from copy import deepcopy\n",
    "    stats = []\n",
    "    n, a = agent\n",
    "    for i in range(5):\n",
    "        stats.append(deepcopy(a).train(deepcopy(env), num_episodes))\n",
    "    return n, stats"
   ]
  },
  {
   "cell_type": "code",
   "execution_count": null,
   "metadata": {},
   "outputs": [],
   "source": [
    "# Classical version\n",
    "#'stats/absolute/6x6_greedy/rql_01': QRQLAgent(0, 0.20, 1.00, 5, 'classical'),\n",
    "#'stats/absolute/6x6_greedy/rql_02': QRQLAgent(0, 0.20, 1.00, 10, 'classical'),\n",
    "#'stats/absolute/6x6_greedy/rql_03': QRQLAgent(0, 0.40, 1.00, 5, 'classical'),\n",
    "#'stats/absolute/6x6_greedy/rql_04': QRQLAgent(0, 0.40, 1.00, 10, 'classical'),\n",
    "#'stats/absolute/6x6_greedy/rql_05': QRQLAgent(0, 0.60, 1.00, 5, 'classical'),\n",
    "#'stats/absolute/6x6_greedy/rql_06': QRQLAgent(0, 0.60, 1.00, 10, 'classical'),\n",
    "#'stats/absolute/6x6_greedy/rql_07': QRQLAgent(0, 0.80, 1.00, 5, 'classical'),\n",
    "#'stats/absolute/6x6_greedy/rql_08': QRQLAgent(0, 0.80, 1.00, 10, 'classical'),\n",
    "#'stats/absolute/8x8_greedy/rql_09': QRQLAgent(0, 0.40, 1.00, 100, 'classical'),\n",
    "#'stats/absolute/8x8_greedy/rql_10': QRQLAgent(3, 0.40, 1.00, 1000, 'classical'),\n",
    "\n",
    "# Quantum version\n",
    "#'stats/absolute/6x6_greedy/qrql_01': QRQLAgent(1, 0.20, 1.00, 5, 'quantum'),\n",
    "#'stats/absolute/6x6_greedy/qrql_02': QRQLAgent(1, 0.20, 1.00, 10, 'quantum'),\n",
    "#'stats/absolute/6x6_greedy/qrql_03': QRQLAgent(1, 0.40, 1.00, 5, 'quantum'),\n",
    "#'stats/absolute/6x6_greedy/qrql_04': QRQLAgent(1, 0.40, 1.00, 10, 'quantum')\n",
    "#'stats/absolute/6x6_greedy/qrql_05': QRQLAgent(0, 0.60, 1.00, 5, 'quantum'),\n",
    "#'stats/absolute/6x6_greedy/qrql_06': QRQLAgent(0, 0.60, 1.00, 10, 'quantum'),\n",
    "#'stats/absolute/6x6_greedy/qrql_07': QRQLAgent(0, 0.80, 1.00, 5, 'quantum'),\n",
    "#'stats/absolute/6x6_greedy/qrql_08': QRQLAgent(0, 0.80, 1.00, 10, 'quantum'),\n",
    "#'stats/absolute/8x8_greedy/qrql_09': QRQLAgent(0, 0.40, 1.00, 100, 'quantum'),\n",
    "#'stats/absolute/8x8_greedy/qrql_10': QRQLAgent(7, 0.40, 1.00, 1000, 'quantum'),"
   ]
  },
  {
   "cell_type": "code",
   "execution_count": null,
   "metadata": {},
   "outputs": [
    {
     "data": {
      "application/vnd.jupyter.widget-view+json": {
       "model_id": "300ad6b11b2b4847a9203d955e9276df",
       "version_major": 2,
       "version_minor": 0
      },
      "text/plain": [
       "HBox(children=(HTML(value=''), FloatProgress(value=0.0, max=4.0), HTML(value='')))"
      ]
     },
     "metadata": {},
     "output_type": "display_data"
    }
   ],
   "source": [
    "env = Checkers(shape=(6,6), opponent='optimal3', absolute=True)\n",
    "\n",
    "# tau = 0.2 + (20 - 0.2) / (1 + math.e**(0.5*(i_episode / 1000)))\n",
    "\n",
    "agents = {\n",
    "    # Classical version\n",
    "    'stats/absolute/6x6_optimal3/rql_03': QRQLAgent(0, 0.40, 1.00, 5, '6x6', 'classical'),\n",
    "    'stats/absolute/6x6_optimal3/rql_04': QRQLAgent(0, 0.40, 1.00, 10, '6x6', 'classical'),\n",
    "\n",
    "    # Quantum version\n",
    "    'stats/absolute/6x6_optimal3/qrql_03': QRQLAgent(1, 0.40, 1.00, 5, '6x6', 'quantum'),\n",
    "    'stats/absolute/6x6_optimal3/qrql_04': QRQLAgent(1, 0.40, 1.00, 10, '6x6', 'quantum'),\n",
    "}\n",
    "\n",
    "start = time.time()\n",
    "        \n",
    "for n, stats in p_uimap(partial(base_run, env, 20000), list(agents.items()), num_cpus=8):\n",
    "    for i, stat in enumerate(stats):\n",
    "        save_stats(n + f'_{i}', stat)\n",
    "    \n",
    "end = time.time()\n",
    "\n",
    "print(\"Training time:\", str(datetime.timedelta(seconds=end - start)))"
   ]
  },
  {
   "cell_type": "code",
   "execution_count": null,
   "metadata": {},
   "outputs": [],
   "source": [
    "env = Checkers(shape=(6,6), opponent='optimal5', absolute=True)\n",
    "\n",
    "# tau = 0.2 + (20 - 0.2) / (1 + math.e**(0.5*(i_episode / 1000)))\n",
    "\n",
    "agents = {\n",
    "    # Classical version\n",
    "    'stats/absolute/6x6_optimal5/rql_03': QRQLAgent(0, 0.40, 1.00, 5, '6x6', 'classical'),\n",
    "    'stats/absolute/6x6_optimal5/rql_04': QRQLAgent(0, 0.40, 1.00, 10, '6x6', 'classical'),\n",
    "\n",
    "    # Quantum version\n",
    "    'stats/absolute/6x6_optimal5/qrql_03': QRQLAgent(1, 0.40, 1.00, 5, '6x6', 'quantum'),\n",
    "    'stats/absolute/6x6_optimal5/qrql_04': QRQLAgent(1, 0.40, 1.00, 10, '6x6', 'quantum'),\n",
    "}\n",
    "\n",
    "start = time.time()\n",
    "        \n",
    "for n, stats in p_uimap(partial(base_run, env, 20000), list(agents.items()), num_cpus=8):\n",
    "    for i, stat in enumerate(stats):\n",
    "        save_stats(n + f'_{i}', stat)\n",
    "    \n",
    "end = time.time()\n",
    "\n",
    "print(\"Training time:\", str(datetime.timedelta(seconds=end - start)))"
   ]
  },
  {
   "cell_type": "code",
   "execution_count": null,
   "metadata": {},
   "outputs": [
    {
     "data": {
      "application/vnd.jupyter.widget-view+json": {
       "model_id": "2637218158354317b914f3cb335b13da",
       "version_major": 2,
       "version_minor": 0
      },
      "text/plain": [
       "HBox(children=(HTML(value=''), FloatProgress(value=0.0, max=4.0), HTML(value='')))"
      ]
     },
     "metadata": {},
     "output_type": "display_data"
    }
   ],
   "source": [
    "env = Checkers(shape=(8,8), opponent='greedy_to_optimal3', absolute=True)\n",
    "\n",
    "agents = {\n",
    "    # Classical version\n",
    "    #'stats/absolute/8x8_greedy/rql_03': QRQLAgent(0, 0.40, 1.00, 5, '8x8', classical'),\n",
    "    'stats/absolute/8x8_changing3/rql_04': QRQLAgent(1, 0.40, 1.00, 10, '8x8_changing', 'classical'),\n",
    "    'stats/absolute/8x8_changing3/rql_09': QRQLAgent(2, 0.40, 1.00, 100, '8x8_changing', 'classical'),\n",
    "    #'stats/absolute/8x8_greedy/rql_10': QRQLAgent(3, 0.40, 1.00, 1000, '8x8', 'classical'),\n",
    "    \n",
    "    # Quantum version\n",
    "    #'stats/absolute/8x8_greedy/qrql_03': QRQLAgent(4, 0.40, 1.00, 5, 'quantum'),\n",
    "    'stats/absolute/8x8_changing3/qrql_04': QRQLAgent(3, 0.40, 1.00, 10, '8x8_changing', 'quantum'),\n",
    "    'stats/absolute/8x8_changing3/qrql_09': QRQLAgent(4, 0.40, 1.00, 100, '8x8_changing', 'quantum'),\n",
    "    #'stats/absolute/8x8_greedy/qrql_10': QRQLAgent(7, 0.40, 1.00, 1000, 'quantum'),\n",
    "}\n",
    "\n",
    "start = time.time()\n",
    "        \n",
    "for n, stats in p_uimap(partial(base_run, env, 37500), list(agents.items()), num_cpus=4, disable=None):\n",
    "    for i, stat in enumerate(stats):\n",
    "        save_stats(n + f'_{5 + i}', stat)\n",
    "    \n",
    "end = time.time()\n",
    "\n",
    "print(\"Training time:\", str(datetime.timedelta(seconds=end - start)))"
   ]
  }
 ],
 "metadata": {
  "kernelspec": {
   "display_name": "Python 3",
   "language": "python",
   "name": "python3"
  },
  "language_info": {
   "codemirror_mode": {
    "name": "ipython",
    "version": 3
   },
   "file_extension": ".py",
   "mimetype": "text/x-python",
   "name": "python",
   "nbconvert_exporter": "python",
   "pygments_lexer": "ipython3",
   "version": "3.8.5"
  }
 },
 "nbformat": 4,
 "nbformat_minor": 4
}
